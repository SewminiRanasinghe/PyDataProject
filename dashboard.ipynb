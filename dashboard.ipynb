{
 "cells": [
  {
   "cell_type": "code",
   "execution_count": 1,
   "metadata": {},
   "outputs": [],
   "source": [
    "import pandas as pd\n",
    "# Load the cricket dataset\n",
    "try:\n",
    "    df = pd.read_csv(\"processed_cricket_data.csv\")  \n",
    "except FileNotFoundError:\n",
    "    print(\"Error: 'cleaned_cricket_data.csv' not found. Please ensure the file path is correct.\")\n",
    "    exit()"
   ]
  },
  {
   "cell_type": "code",
   "execution_count": 2,
   "metadata": {},
   "outputs": [],
   "source": [
    "# Check if the necessary columns exist\n",
    "required_columns = ['team_1', 'team_1_runs', 'team_2', 'team_2_runs', 'match_category', 'world_cup_year']\n",
    "if not all(col in df.columns for col in required_columns):\n",
    "    print(\"Error: The dataset does not contain the required columns. Please check your data preparation.\")\n",
    "    exit()"
   ]
  }
 ],
 "metadata": {
  "kernelspec": {
   "display_name": "Python 3",
   "language": "python",
   "name": "python3"
  },
  "language_info": {
   "codemirror_mode": {
    "name": "ipython",
    "version": 3
   },
   "file_extension": ".py",
   "mimetype": "text/x-python",
   "name": "python",
   "nbconvert_exporter": "python",
   "pygments_lexer": "ipython3",
   "version": "3.12.4"
  }
 },
 "nbformat": 4,
 "nbformat_minor": 2
}
